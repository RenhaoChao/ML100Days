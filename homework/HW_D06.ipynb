{
 "cells": [
  {
   "cell_type": "code",
   "execution_count": null,
   "metadata": {},
   "outputs": [],
   "source": [
    "import numpy as np\n",
    "\n"
   ]
  },
  {
   "cell_type": "code",
   "execution_count": null,
   "metadata": {},
   "outputs": [],
   "source": [
    "#1. 將下兩列array存成npz檔\n",
    "array1 = np.array(range(30))\n",
    "array2 = np.array([2,3,5])\n",
    "\n",
    "with open(r'C:\\Users\\Cup\\Desktop\\ML100Days\\D06 使用 NumPy 存取各種檔案內容\\q1.npz', 'wb') as f:\n",
    "    np.savez(f,a=array1,b=array2)\n",
    "\n",
    "npzfile = np.load(r'C:\\Users\\Cup\\Desktop\\ML100Days\\D06 使用 NumPy 存取各種檔案內容\\q1.npz')\n",
    "print(npzfile['a'])\n",
    "print(npzfile['b'])"
   ]
  },
  {
   "cell_type": "code",
   "execution_count": null,
   "metadata": {},
   "outputs": [],
   "source": [
    "#2. 讀取剛剛的npz檔，加入下列array一起存成新的npz檔\n",
    "array3 = np.array([[4,5,6],[1,2,3]])\n",
    "\n",
    "\n",
    "with open(r'C:\\Users\\Cup\\Desktop\\ML100Days\\D06 使用 NumPy 存取各種檔案內容\\q2.npz', 'wb') as f1:\n",
    "    np.savez(f1,a=npzfile['a'],b=npzfile['b'],c=array3)\n",
    "\n",
    "\n",
    "npzfile2 = np.load(r'C:\\Users\\Cup\\Desktop\\ML100Days\\D06 使用 NumPy 存取各種檔案內容\\q2.npz')\n",
    "\n",
    "print(npzfile2['a'])\n",
    "print(npzfile2['b'])\n",
    "print(npzfile2['c'])"
   ]
  },
  {
   "cell_type": "code",
   "execution_count": null,
   "metadata": {},
   "outputs": [],
   "source": []
  }
 ],
 "metadata": {
  "kernelspec": {
   "display_name": "Python 3",
   "language": "python",
   "name": "python3"
  },
  "language_info": {
   "codemirror_mode": {
    "name": "ipython",
    "version": 3
   },
   "file_extension": ".py",
   "mimetype": "text/x-python",
   "name": "python",
   "nbconvert_exporter": "python",
   "pygments_lexer": "ipython3",
   "version": "3.8.5"
  }
 },
 "nbformat": 4,
 "nbformat_minor": 4
}
