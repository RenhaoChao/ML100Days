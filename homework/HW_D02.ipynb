{
 "cells": [
  {
   "cell_type": "code",
   "execution_count": 4,
   "metadata": {},
   "outputs": [
    {
     "name": "stdout",
     "output_type": "stream",
     "text": [
      "[[ 0  5 10 15 20 25]\n",
      " [ 1  6 11 16 21 26]\n",
      " [ 2  7 12 17 22 27]\n",
      " [ 3  8 13 18 23 28]\n",
      " [ 4  9 14 19 24 29]]\n",
      "(array([0, 1, 2, 3, 4], dtype=int64), array([5, 0, 1, 2, 3], dtype=int64))\n"
     ]
    }
   ],
   "source": [
    "# %load D:\\Noven\\python work\\ML100Days\\D02.py\n",
    "import numpy as np\n",
    "\n",
    "\n",
    "\n",
    "#1.將下列清單(list1)，轉成維度為(5X6)的array，順序按列填充。(hint:order=\"F\")\n",
    "array1 = np.array(range(30))\n",
    "# print(array1)\n",
    "# print(array1.reshape(5,6))\n",
    "reshape_array1 = array1.reshape(5,6,order=\"F\")\n",
    "print(reshape_array1)\n",
    "\n",
    "\n",
    "\n",
    "\n",
    "#2.呈上題的array，找出被6除餘1的數的索引\n",
    "\n",
    "# print(np.where(array1.reshape(5,6)%6==1))\n",
    "print(np.where(reshape_array1%6==1))\n"
   ]
  },
  {
   "cell_type": "code",
   "execution_count": null,
   "metadata": {},
   "outputs": [],
   "source": []
  },
  {
   "cell_type": "code",
   "execution_count": null,
   "metadata": {},
   "outputs": [],
   "source": []
  }
 ],
 "metadata": {
  "kernelspec": {
   "display_name": "Python 3",
   "language": "python",
   "name": "python3"
  },
  "language_info": {
   "codemirror_mode": {
    "name": "ipython",
    "version": 3
   },
   "file_extension": ".py",
   "mimetype": "text/x-python",
   "name": "python",
   "nbconvert_exporter": "python",
   "pygments_lexer": "ipython3",
   "version": "3.8.5"
  }
 },
 "nbformat": 4,
 "nbformat_minor": 4
}
